{
 "cells": [
  {
   "cell_type": "code",
   "execution_count": 1,
   "id": "39b195e5-9824-4a57-b7c2-54d5c51b637f",
   "metadata": {},
   "outputs": [],
   "source": [
    "import json\n",
    "import geopandas as gpd\n",
    "import numpy as np\n",
    "from pandas_geojson import to_geojson\n",
    "from pandas_geojson import write_geojson"
   ]
  },
  {
   "cell_type": "code",
   "execution_count": 2,
   "id": "fc8e75b2-f09a-4d61-8d06-15a26ef8693a",
   "metadata": {},
   "outputs": [],
   "source": [
    "bd_district = json.load(open('/home/shakibibneshameempolock/Downloads/bgd_adm_bbs_20201113_shp/bgd_admbnda_adm2_bbs_20201113.json', 'r'))"
   ]
  },
  {
   "cell_type": "code",
   "execution_count": 3,
   "id": "72269d63-9007-47cd-9210-d3521170b6b4",
   "metadata": {},
   "outputs": [
    {
     "data": {
      "text/plain": [
       "'Bagerhat'"
      ]
     },
     "execution_count": 3,
     "metadata": {},
     "output_type": "execute_result"
    }
   ],
   "source": [
    "bd_district['features'][0]['properties']['ADM2_EN']"
   ]
  },
  {
   "cell_type": "code",
   "execution_count": 4,
   "id": "7721b8d6-ebf3-4420-bc57-2af01cd58441",
   "metadata": {},
   "outputs": [],
   "source": [
    "for i in range(0,len(bd_district['features'])):\n",
    "    k = bd_district['features'][i]['properties']['ADM2_EN']\n",
    "    #print(k)"
   ]
  },
  {
   "cell_type": "code",
   "execution_count": 5,
   "id": "d145b7a9-08ed-49a8-81d6-0d3fdee28077",
   "metadata": {},
   "outputs": [
    {
     "data": {
      "text/plain": [
       "{'Shape_Leng': 12.9298161737,\n",
       " 'Shape_Area': 0.319708678277,\n",
       " 'ADM2_EN': 'Bagerhat',\n",
       " 'ADM2_PCODE': 'BD4001',\n",
       " 'ADM2_REF': '',\n",
       " 'ADM2ALT1EN': '',\n",
       " 'ADM2ALT2EN': '',\n",
       " 'ADM1_EN': 'Khulna',\n",
       " 'ADM1_PCODE': 'BD40',\n",
       " 'ADM0_EN': 'Bangladesh',\n",
       " 'ADM0_PCODE': 'BD',\n",
       " 'date': '2015-01-01T00:00:00.000Z',\n",
       " 'validOn': '2020-11-13T00:00:00.000Z',\n",
       " 'ValidTo': '1899-11-30T00:00:00.000Z'}"
      ]
     },
     "execution_count": 5,
     "metadata": {},
     "output_type": "execute_result"
    }
   ],
   "source": [
    "bd_district['features'][0]['properties']"
   ]
  },
  {
   "cell_type": "code",
   "execution_count": 6,
   "id": "8c4810b2-e953-4a1d-bd90-8c66ad761cee",
   "metadata": {},
   "outputs": [],
   "source": [
    "gdf = gpd.read_file('/home/shakibibneshameempolock/Downloads/bgd_adm_bbs_20201113_shp/bgd_admbnda_adm2_bbs_20201113.json')"
   ]
  },
  {
   "cell_type": "code",
   "execution_count": 7,
   "id": "f36b71f6-6521-4f45-bca3-3874195e3f22",
   "metadata": {},
   "outputs": [],
   "source": [
    "l = ['Shape_Leng','Shape_Area','ADM2_PCODE','ADM2_REF','ADM2ALT1EN','ADM2ALT2EN','ADM1_EN','ADM1_PCODE','ADM0_EN','ADM0_PCODE','date','validOn','ValidTo']\n",
    "gdf.drop(l, inplace=True, axis=1)"
   ]
  },
  {
   "cell_type": "code",
   "execution_count": 8,
   "id": "1f4cf90f-366b-4b21-bb3d-28be45ac70d8",
   "metadata": {},
   "outputs": [
    {
     "data": {
      "text/html": [
       "<div>\n",
       "<style scoped>\n",
       "    .dataframe tbody tr th:only-of-type {\n",
       "        vertical-align: middle;\n",
       "    }\n",
       "\n",
       "    .dataframe tbody tr th {\n",
       "        vertical-align: top;\n",
       "    }\n",
       "\n",
       "    .dataframe thead th {\n",
       "        text-align: right;\n",
       "    }\n",
       "</style>\n",
       "<table border=\"1\" class=\"dataframe\">\n",
       "  <thead>\n",
       "    <tr style=\"text-align: right;\">\n",
       "      <th></th>\n",
       "      <th>ADM2_EN</th>\n",
       "      <th>geometry</th>\n",
       "    </tr>\n",
       "  </thead>\n",
       "  <tbody>\n",
       "    <tr>\n",
       "      <th>0</th>\n",
       "      <td>Bagerhat</td>\n",
       "      <td>MULTIPOLYGON (((89.84021 21.82784, 89.83750 21...</td>\n",
       "    </tr>\n",
       "    <tr>\n",
       "      <th>1</th>\n",
       "      <td>Bandarban</td>\n",
       "      <td>POLYGON ((92.61391 21.85191, 92.59671 21.86793...</td>\n",
       "    </tr>\n",
       "    <tr>\n",
       "      <th>2</th>\n",
       "      <td>Barguna</td>\n",
       "      <td>MULTIPOLYGON (((89.87968 22.07869, 89.88424 22...</td>\n",
       "    </tr>\n",
       "    <tr>\n",
       "      <th>3</th>\n",
       "      <td>Barisal</td>\n",
       "      <td>MULTIPOLYGON (((90.55435 22.59264, 90.55114 22...</td>\n",
       "    </tr>\n",
       "    <tr>\n",
       "      <th>4</th>\n",
       "      <td>Bhola</td>\n",
       "      <td>MULTIPOLYGON (((90.77172 21.85595, 90.78403 21...</td>\n",
       "    </tr>\n",
       "  </tbody>\n",
       "</table>\n",
       "</div>"
      ],
      "text/plain": [
       "     ADM2_EN                                           geometry\n",
       "0   Bagerhat  MULTIPOLYGON (((89.84021 21.82784, 89.83750 21...\n",
       "1  Bandarban  POLYGON ((92.61391 21.85191, 92.59671 21.86793...\n",
       "2    Barguna  MULTIPOLYGON (((89.87968 22.07869, 89.88424 22...\n",
       "3    Barisal  MULTIPOLYGON (((90.55435 22.59264, 90.55114 22...\n",
       "4      Bhola  MULTIPOLYGON (((90.77172 21.85595, 90.78403 21..."
      ]
     },
     "execution_count": 8,
     "metadata": {},
     "output_type": "execute_result"
    }
   ],
   "source": [
    "gdf.head()"
   ]
  },
  {
   "cell_type": "code",
   "execution_count": 9,
   "id": "e8ff4d78-b771-4f09-8f1e-5a92eb76172e",
   "metadata": {},
   "outputs": [],
   "source": [
    "gdf_processed = gpd.read_file('/home/shakibibneshameempolock/Documents/with Saikat Vai/BD_MAP_JSON/bangladesh_districts.geojson')"
   ]
  },
  {
   "cell_type": "code",
   "execution_count": 10,
   "id": "d299dca8-7aeb-490f-8bfb-1ef8c0f80f57",
   "metadata": {},
   "outputs": [
    {
     "data": {
      "text/html": [
       "<div>\n",
       "<style scoped>\n",
       "    .dataframe tbody tr th:only-of-type {\n",
       "        vertical-align: middle;\n",
       "    }\n",
       "\n",
       "    .dataframe tbody tr th {\n",
       "        vertical-align: top;\n",
       "    }\n",
       "\n",
       "    .dataframe thead th {\n",
       "        text-align: right;\n",
       "    }\n",
       "</style>\n",
       "<table border=\"1\" class=\"dataframe\">\n",
       "  <thead>\n",
       "    <tr style=\"text-align: right;\">\n",
       "      <th></th>\n",
       "      <th>district</th>\n",
       "      <th>geometry</th>\n",
       "    </tr>\n",
       "  </thead>\n",
       "  <tbody>\n",
       "    <tr>\n",
       "      <th>0</th>\n",
       "      <td>Bagerhat</td>\n",
       "      <td>MULTIPOLYGON (((89.84021 21.82784, 89.85325 21...</td>\n",
       "    </tr>\n",
       "    <tr>\n",
       "      <th>1</th>\n",
       "      <td>Bandarban</td>\n",
       "      <td>POLYGON ((92.61391 21.85191, 92.61555 21.83217...</td>\n",
       "    </tr>\n",
       "    <tr>\n",
       "      <th>2</th>\n",
       "      <td>Barguna</td>\n",
       "      <td>MULTIPOLYGON (((89.89093 22.15827, 89.89122 22...</td>\n",
       "    </tr>\n",
       "    <tr>\n",
       "      <th>3</th>\n",
       "      <td>Barishal</td>\n",
       "      <td>MULTIPOLYGON (((90.55435 22.59264, 90.54678 22...</td>\n",
       "    </tr>\n",
       "    <tr>\n",
       "      <th>4</th>\n",
       "      <td>Bhola</td>\n",
       "      <td>MULTIPOLYGON (((90.77172 21.85595, 90.77116 21...</td>\n",
       "    </tr>\n",
       "  </tbody>\n",
       "</table>\n",
       "</div>"
      ],
      "text/plain": [
       "    district                                           geometry\n",
       "0   Bagerhat  MULTIPOLYGON (((89.84021 21.82784, 89.85325 21...\n",
       "1  Bandarban  POLYGON ((92.61391 21.85191, 92.61555 21.83217...\n",
       "2    Barguna  MULTIPOLYGON (((89.89093 22.15827, 89.89122 22...\n",
       "3   Barishal  MULTIPOLYGON (((90.55435 22.59264, 90.54678 22...\n",
       "4      Bhola  MULTIPOLYGON (((90.77172 21.85595, 90.77116 21..."
      ]
     },
     "execution_count": 10,
     "metadata": {},
     "output_type": "execute_result"
    }
   ],
   "source": [
    "gdf_processed.head()"
   ]
  },
  {
   "cell_type": "code",
   "execution_count": 11,
   "id": "bb88840c-f4d6-4f40-a57c-cd96c6c9737d",
   "metadata": {},
   "outputs": [],
   "source": [
    "l_ok = np.sort([gdf_processed['district']])"
   ]
  },
  {
   "cell_type": "code",
   "execution_count": 12,
   "id": "b0d46ba3-830c-494a-aaed-06f3e58eeb05",
   "metadata": {},
   "outputs": [
    {
     "data": {
      "text/plain": [
       "array([['Bagerhat', 'Bandarban', 'Barguna', 'Barishal', 'Bhola',\n",
       "        'Bogura', 'Brahmanbaria', 'Chandpur', 'Chapai Nawabganj',\n",
       "        'Chattogram', 'Chuadanga', 'Coxs Bazar', 'Cumilla', 'Dhaka',\n",
       "        'Dinajpur', 'Faridpur', 'Feni', 'Gaibandha', 'Gazipur',\n",
       "        'Gopalganj', 'Habiganj', 'Jamalpur', 'Jashore', 'Jhalokati',\n",
       "        'Jhenaidah', 'Joypurhat', 'Khagrachhari', 'Khulna',\n",
       "        'Kishoreganj', 'Kurigram', 'Kushtia', 'Lakshmipur',\n",
       "        'Lalmonirhat', 'Madaripur', 'Magura', 'Manikganj', 'Maulvibazar',\n",
       "        'Meherpur', 'Munshiganj', 'Mymensingh', 'Naogaon', 'Narail',\n",
       "        'Narayanganj', 'Narsingdi', 'Natore', 'Netrakona', 'Nilphamari',\n",
       "        'Noakhali', 'Pabna', 'Panchagarh', 'Patuakhali', 'Pirojpur',\n",
       "        'Rajbari', 'Rajshahi', 'Rangamati', 'Rangpur', 'Satkhira',\n",
       "        'Shariatpur', 'Sherpur', 'Sirajganj', 'Sunamganj', 'Sylhet',\n",
       "        'Tangail', 'Thakurgaon']], dtype=object)"
      ]
     },
     "execution_count": 12,
     "metadata": {},
     "output_type": "execute_result"
    }
   ],
   "source": [
    "l_ok"
   ]
  },
  {
   "cell_type": "code",
   "execution_count": 13,
   "id": "f323507d-cf44-4ea2-8e96-7b9c61744adc",
   "metadata": {},
   "outputs": [],
   "source": [
    "l = np.sort([gdf['ADM2_EN']])"
   ]
  },
  {
   "cell_type": "code",
   "execution_count": 14,
   "id": "c68424a3-55e6-4804-ac69-85dbfdef9207",
   "metadata": {},
   "outputs": [
    {
     "data": {
      "text/plain": [
       "array([['Bagerhat', 'Bandarban', 'Barguna', 'Barisal', 'Bhola', 'Bogra',\n",
       "        'Brahamanbaria', 'Chandpur', 'Chittagong', 'Chuadanga',\n",
       "        'Comilla', \"Cox's Bazar\", 'Dhaka', 'Dinajpur', 'Faridpur',\n",
       "        'Feni', 'Gaibandha', 'Gazipur', 'Gopalganj', 'Habiganj',\n",
       "        'Jamalpur', 'Jessore', 'Jhalokati', 'Jhenaidah', 'Joypurhat',\n",
       "        'Khagrachhari', 'Khulna', 'Kishoreganj', 'Kurigram', 'Kushtia',\n",
       "        'Lakshmipur', 'Lalmonirhat', 'Madaripur', 'Magura', 'Manikganj',\n",
       "        'Maulvibazar', 'Meherpur', 'Munshiganj', 'Mymensingh', 'Naogaon',\n",
       "        'Narail', 'Narayanganj', 'Narsingdi', 'Natore', 'Nawabganj',\n",
       "        'Netrakona', 'Nilphamari', 'Noakhali', 'Pabna', 'Panchagarh',\n",
       "        'Patuakhali', 'Pirojpur', 'Rajbari', 'Rajshahi', 'Rangamati',\n",
       "        'Rangpur', 'Satkhira', 'Shariatpur', 'Sherpur', 'Sirajganj',\n",
       "        'Sunamganj', 'Sylhet', 'Tangail', 'Thakurgaon']], dtype=object)"
      ]
     },
     "execution_count": 14,
     "metadata": {},
     "output_type": "execute_result"
    }
   ],
   "source": [
    "l"
   ]
  },
  {
   "cell_type": "code",
   "execution_count": 15,
   "id": "7564620d-3c40-4412-a131-1d27e5cb759b",
   "metadata": {},
   "outputs": [],
   "source": [
    "wrong = []\n",
    "\n",
    "for i in range(0,64):\n",
    "    if l[0][i] not in l_ok[0]:\n",
    "        wrong.append(l[0][i])\n"
   ]
  },
  {
   "cell_type": "code",
   "execution_count": 16,
   "id": "1ba24658-c723-4fb9-9099-a82ed055ca98",
   "metadata": {},
   "outputs": [
    {
     "name": "stdout",
     "output_type": "stream",
     "text": [
      "['Barisal', 'Bogra', 'Brahamanbaria', 'Chittagong', 'Comilla', \"Cox's Bazar\", 'Jessore', 'Nawabganj']\n"
     ]
    }
   ],
   "source": [
    "print(wrong)"
   ]
  },
  {
   "cell_type": "code",
   "execution_count": 17,
   "id": "d41e1723-fe6d-4145-b6d9-79d4b70eb8dc",
   "metadata": {},
   "outputs": [],
   "source": [
    "correct = []\n",
    "for i in range(0,64):\n",
    "    if l_ok[0][i] not in l[0]:\n",
    "        correct.append(l_ok[0][i])\n"
   ]
  },
  {
   "cell_type": "code",
   "execution_count": 18,
   "id": "0dee4599-8a28-4827-8a2a-ef13bf14a5da",
   "metadata": {},
   "outputs": [
    {
     "name": "stdout",
     "output_type": "stream",
     "text": [
      "['Barishal', 'Bogura', 'Brahmanbaria', 'Chapai Nawabganj', 'Chattogram', 'Coxs Bazar', 'Cumilla', 'Jashore']\n"
     ]
    }
   ],
   "source": [
    "print(correct)"
   ]
  },
  {
   "cell_type": "code",
   "execution_count": 19,
   "id": "578a77eb-a6c0-4a5e-a1c7-e8defb2b535a",
   "metadata": {},
   "outputs": [],
   "source": [
    "gdf['ADM2_EN'] = gdf['ADM2_EN'].replace(['Barisal', 'Bogra', 'Brahamanbaria', 'Chittagong', 'Comilla', \"Cox's Bazar\", 'Jessore', 'Nawabganj'],\n",
    "                                        ['Barishal','Bogura','Brahmanbaria','Chattogram','Cumilla','Coxs Bazar','Jashore','Chapai Nawabganj'])\n"
   ]
  },
  {
   "cell_type": "code",
   "execution_count": 20,
   "id": "f1838d02-c9f7-4f7a-bd11-8a2420c552a2",
   "metadata": {},
   "outputs": [
    {
     "name": "stdout",
     "output_type": "stream",
     "text": [
      "0     True\n",
      "1     True\n",
      "2     True\n",
      "3     True\n",
      "4     True\n",
      "      ... \n",
      "59    True\n",
      "60    True\n",
      "61    True\n",
      "62    True\n",
      "63    True\n",
      "Length: 64, dtype: bool\n"
     ]
    }
   ],
   "source": [
    "print (gdf['ADM2_EN']==gdf_processed['district'])"
   ]
  },
  {
   "cell_type": "code",
   "execution_count": 21,
   "id": "03bce8c9-e1bf-4c47-989c-8cb413d5973c",
   "metadata": {},
   "outputs": [],
   "source": [
    "x_ok = np.sort([gdf_processed['district']])\n",
    "x = np.sort([gdf['ADM2_EN']])"
   ]
  },
  {
   "cell_type": "code",
   "execution_count": 22,
   "id": "3bbee219-6605-449e-baff-383886cac919",
   "metadata": {},
   "outputs": [],
   "source": [
    "check = []\n",
    "for i in range(0,64):\n",
    "    if x_ok[0][i] not in x[0]:\n",
    "        check.append(l_ok[0][i])\n"
   ]
  },
  {
   "cell_type": "code",
   "execution_count": 23,
   "id": "c158f5b5-5386-4e70-afb0-b2efefec1bd7",
   "metadata": {},
   "outputs": [
    {
     "data": {
      "text/plain": [
       "[]"
      ]
     },
     "execution_count": 23,
     "metadata": {},
     "output_type": "execute_result"
    }
   ],
   "source": [
    "check"
   ]
  },
  {
   "cell_type": "code",
   "execution_count": 27,
   "id": "9287e2d1-88fb-482a-b53a-a4ad7eff2dd1",
   "metadata": {},
   "outputs": [],
   "source": [
    "gdf.rename(columns = {'ADM2_EN':'district'}, inplace = True)"
   ]
  },
  {
   "cell_type": "code",
   "execution_count": 24,
   "id": "a085d34e-15ec-4753-b2f6-6c421c65bc0b",
   "metadata": {},
   "outputs": [
    {
     "data": {
      "text/html": [
       "<div>\n",
       "<style scoped>\n",
       "    .dataframe tbody tr th:only-of-type {\n",
       "        vertical-align: middle;\n",
       "    }\n",
       "\n",
       "    .dataframe tbody tr th {\n",
       "        vertical-align: top;\n",
       "    }\n",
       "\n",
       "    .dataframe thead th {\n",
       "        text-align: right;\n",
       "    }\n",
       "</style>\n",
       "<table border=\"1\" class=\"dataframe\">\n",
       "  <thead>\n",
       "    <tr style=\"text-align: right;\">\n",
       "      <th></th>\n",
       "      <th>ADM2_EN</th>\n",
       "      <th>geometry</th>\n",
       "    </tr>\n",
       "  </thead>\n",
       "  <tbody>\n",
       "    <tr>\n",
       "      <th>0</th>\n",
       "      <td>Bagerhat</td>\n",
       "      <td>MULTIPOLYGON (((89.84021 21.82784, 89.83750 21...</td>\n",
       "    </tr>\n",
       "    <tr>\n",
       "      <th>1</th>\n",
       "      <td>Bandarban</td>\n",
       "      <td>POLYGON ((92.61391 21.85191, 92.59671 21.86793...</td>\n",
       "    </tr>\n",
       "    <tr>\n",
       "      <th>2</th>\n",
       "      <td>Barguna</td>\n",
       "      <td>MULTIPOLYGON (((89.87968 22.07869, 89.88424 22...</td>\n",
       "    </tr>\n",
       "    <tr>\n",
       "      <th>3</th>\n",
       "      <td>Barishal</td>\n",
       "      <td>MULTIPOLYGON (((90.55435 22.59264, 90.55114 22...</td>\n",
       "    </tr>\n",
       "    <tr>\n",
       "      <th>4</th>\n",
       "      <td>Bhola</td>\n",
       "      <td>MULTIPOLYGON (((90.77172 21.85595, 90.78403 21...</td>\n",
       "    </tr>\n",
       "  </tbody>\n",
       "</table>\n",
       "</div>"
      ],
      "text/plain": [
       "     ADM2_EN                                           geometry\n",
       "0   Bagerhat  MULTIPOLYGON (((89.84021 21.82784, 89.83750 21...\n",
       "1  Bandarban  POLYGON ((92.61391 21.85191, 92.59671 21.86793...\n",
       "2    Barguna  MULTIPOLYGON (((89.87968 22.07869, 89.88424 22...\n",
       "3   Barishal  MULTIPOLYGON (((90.55435 22.59264, 90.55114 22...\n",
       "4      Bhola  MULTIPOLYGON (((90.77172 21.85595, 90.78403 21..."
      ]
     },
     "execution_count": 24,
     "metadata": {},
     "output_type": "execute_result"
    }
   ],
   "source": [
    "gdf.head()"
   ]
  },
  {
   "cell_type": "code",
   "execution_count": 25,
   "id": "88b06717-c9b7-46ef-a2ca-e67d9fac4f27",
   "metadata": {},
   "outputs": [
    {
     "data": {
      "text/plain": [
       "<Geographic 2D CRS: EPSG:4326>\n",
       "Name: WGS 84\n",
       "Axis Info [ellipsoidal]:\n",
       "- Lat[north]: Geodetic latitude (degree)\n",
       "- Lon[east]: Geodetic longitude (degree)\n",
       "Area of Use:\n",
       "- name: World.\n",
       "- bounds: (-180.0, -90.0, 180.0, 90.0)\n",
       "Datum: World Geodetic System 1984 ensemble\n",
       "- Ellipsoid: WGS 84\n",
       "- Prime Meridian: Greenwich"
      ]
     },
     "execution_count": 25,
     "metadata": {},
     "output_type": "execute_result"
    }
   ],
   "source": [
    "gdf.crs"
   ]
  },
  {
   "cell_type": "code",
   "execution_count": 26,
   "id": "844f66c7-ee2e-49f5-bc36-a4a0974fee68",
   "metadata": {},
   "outputs": [],
   "source": [
    "gdf = gdf.set_crs('WGS84', allow_override=True)"
   ]
  },
  {
   "cell_type": "code",
   "execution_count": 42,
   "id": "071d31df-77dd-42bb-bad9-75ccf7f99e5b",
   "metadata": {},
   "outputs": [],
   "source": [
    " g = json.load(open('/home/shakibibneshameempolock/Documents/with Saikat Vai/BD_MAP_JSON/bangladesh_districts.geojson','r'))"
   ]
  },
  {
   "cell_type": "code",
   "execution_count": 44,
   "id": "8e4cf97d-d404-42de-9d8f-d502929ce97f",
   "metadata": {},
   "outputs": [
    {
     "data": {
      "text/plain": [
       "{'district': 'Bagerhat'}"
      ]
     },
     "execution_count": 44,
     "metadata": {},
     "output_type": "execute_result"
    }
   ],
   "source": [
    "g['features'][0]['properties']"
   ]
  },
  {
   "cell_type": "code",
   "execution_count": 45,
   "id": "023dabdc-2308-46f9-ace7-91bd0b18752b",
   "metadata": {},
   "outputs": [
    {
     "data": {
      "text/plain": [
       "{'Shape_Leng': 12.9298161737,\n",
       " 'Shape_Area': 0.319708678277,\n",
       " 'ADM2_EN': 'Bagerhat',\n",
       " 'ADM2_PCODE': 'BD4001',\n",
       " 'ADM2_REF': '',\n",
       " 'ADM2ALT1EN': '',\n",
       " 'ADM2ALT2EN': '',\n",
       " 'ADM1_EN': 'Khulna',\n",
       " 'ADM1_PCODE': 'BD40',\n",
       " 'ADM0_EN': 'Bangladesh',\n",
       " 'ADM0_PCODE': 'BD',\n",
       " 'date': '2015-01-01T00:00:00.000Z',\n",
       " 'validOn': '2020-11-13T00:00:00.000Z',\n",
       " 'ValidTo': '1899-11-30T00:00:00.000Z'}"
      ]
     },
     "execution_count": 45,
     "metadata": {},
     "output_type": "execute_result"
    }
   ],
   "source": [
    "bd_district['features'][0]['properties']"
   ]
  },
  {
   "cell_type": "code",
   "execution_count": 51,
   "id": "3e4e6048-872b-4386-b4ce-8be44001ff71",
   "metadata": {},
   "outputs": [
    {
     "data": {
      "text/plain": [
       "dict_keys(['type', 'name', 'crs', 'features'])"
      ]
     },
     "execution_count": 51,
     "metadata": {},
     "output_type": "execute_result"
    }
   ],
   "source": [
    "g.keys()"
   ]
  },
  {
   "cell_type": "code",
   "execution_count": 52,
   "id": "f01a3ef3-7aa1-4bc3-acf1-b05c63218947",
   "metadata": {},
   "outputs": [
    {
     "data": {
      "text/plain": [
       "{'type': 'name', 'properties': {'name': 'urn:ogc:def:crs:OGC:1.3:CRS84'}}"
      ]
     },
     "execution_count": 52,
     "metadata": {},
     "output_type": "execute_result"
    }
   ],
   "source": [
    "g['crs']"
   ]
  },
  {
   "cell_type": "code",
   "execution_count": 67,
   "id": "4c5097fa-db8d-4fce-9922-dcf69fab2571",
   "metadata": {},
   "outputs": [
    {
     "data": {
      "text/html": [
       "<div>\n",
       "<style scoped>\n",
       "    .dataframe tbody tr th:only-of-type {\n",
       "        vertical-align: middle;\n",
       "    }\n",
       "\n",
       "    .dataframe tbody tr th {\n",
       "        vertical-align: top;\n",
       "    }\n",
       "\n",
       "    .dataframe thead th {\n",
       "        text-align: right;\n",
       "    }\n",
       "</style>\n",
       "<table border=\"1\" class=\"dataframe\">\n",
       "  <thead>\n",
       "    <tr style=\"text-align: right;\">\n",
       "      <th></th>\n",
       "      <th>district</th>\n",
       "      <th>geometry</th>\n",
       "    </tr>\n",
       "  </thead>\n",
       "  <tbody>\n",
       "    <tr>\n",
       "      <th>0</th>\n",
       "      <td>Bagerhat</td>\n",
       "      <td>MULTIPOLYGON (((89.84021 21.82784, 89.83750 21...</td>\n",
       "    </tr>\n",
       "    <tr>\n",
       "      <th>1</th>\n",
       "      <td>Bandarban</td>\n",
       "      <td>POLYGON ((92.61391 21.85191, 92.59671 21.86793...</td>\n",
       "    </tr>\n",
       "    <tr>\n",
       "      <th>2</th>\n",
       "      <td>Barguna</td>\n",
       "      <td>MULTIPOLYGON (((89.87968 22.07869, 89.88424 22...</td>\n",
       "    </tr>\n",
       "    <tr>\n",
       "      <th>3</th>\n",
       "      <td>Barishal</td>\n",
       "      <td>MULTIPOLYGON (((90.55435 22.59264, 90.55114 22...</td>\n",
       "    </tr>\n",
       "    <tr>\n",
       "      <th>4</th>\n",
       "      <td>Bhola</td>\n",
       "      <td>MULTIPOLYGON (((90.77172 21.85595, 90.78403 21...</td>\n",
       "    </tr>\n",
       "  </tbody>\n",
       "</table>\n",
       "</div>"
      ],
      "text/plain": [
       "    district                                           geometry\n",
       "0   Bagerhat  MULTIPOLYGON (((89.84021 21.82784, 89.83750 21...\n",
       "1  Bandarban  POLYGON ((92.61391 21.85191, 92.59671 21.86793...\n",
       "2    Barguna  MULTIPOLYGON (((89.87968 22.07869, 89.88424 22...\n",
       "3   Barishal  MULTIPOLYGON (((90.55435 22.59264, 90.55114 22...\n",
       "4      Bhola  MULTIPOLYGON (((90.77172 21.85595, 90.78403 21..."
      ]
     },
     "execution_count": 67,
     "metadata": {},
     "output_type": "execute_result"
    }
   ],
   "source": [
    "gdf.head()"
   ]
  },
  {
   "cell_type": "code",
   "execution_count": 28,
   "id": "f4e2b039-9523-4514-87df-3cb13828f8a4",
   "metadata": {},
   "outputs": [],
   "source": [
    "gdf.to_file('bd_dist',driver=\"GeoJSON\")  "
   ]
  },
  {
   "cell_type": "code",
   "execution_count": null,
   "id": "b9d55ed1-1522-4152-b40b-e6663c085d0f",
   "metadata": {},
   "outputs": [],
   "source": []
  }
 ],
 "metadata": {
  "kernelspec": {
   "display_name": "Python 3 (ipykernel)",
   "language": "python",
   "name": "python3"
  },
  "language_info": {
   "codemirror_mode": {
    "name": "ipython",
    "version": 3
   },
   "file_extension": ".py",
   "mimetype": "text/x-python",
   "name": "python",
   "nbconvert_exporter": "python",
   "pygments_lexer": "ipython3",
   "version": "3.9.7"
  }
 },
 "nbformat": 4,
 "nbformat_minor": 5
}
